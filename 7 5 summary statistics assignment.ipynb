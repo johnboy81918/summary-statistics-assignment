{
 "cells": [
  {
   "cell_type": "code",
   "execution_count": 1,
   "metadata": {},
   "outputs": [],
   "source": [
    "import numpy as np\n",
    "import pandas as pd\n",
    "import statistics"
   ]
  },
  {
   "cell_type": "code",
   "execution_count": 2,
   "metadata": {},
   "outputs": [
    {
     "name": "stdout",
     "output_type": "stream",
     "text": [
      "mean: 9.857142857142858\n",
      "median: 10.0\n",
      "mode: 8\n",
      "variance: 7.476190476190475\n",
      "standard deviation: 2.734262327610589\n",
      "standard error: 1.0334540197243192\n"
     ]
    }
   ],
   "source": [
    "kids = ['Greg',\n",
    "       'Marcia',\n",
    "       'Peter',\n",
    "       'Jan',\n",
    "       'Bobby',\n",
    "       'Cindy',\n",
    "       'Oliver']\n",
    "\n",
    "brady = pd.DataFrame(index=kids)\n",
    "brady['age'] = [14, 12, 11, 10, 8, 6, 8]\n",
    "print (\"mean: {}\".format(np.mean(brady['age'])))\n",
    "print (\"median: {}\".format(np.median(brady['age'])))\n",
    "print (\"mode: {}\".format(statistics.mode(brady['age'])))\n",
    "print (\"variance: {}\".format(brady['age'].var()))\n",
    "print (\"standard deviation: {}\".format(np.std(brady['age'], ddof=1)))\n",
    "print (\"standard error: {}\".format(np.std(brady['age'] ,ddof=1) / np.sqrt(len(brady['age']))))"
   ]
  },
  {
   "cell_type": "code",
   "execution_count": 3,
   "metadata": {},
   "outputs": [],
   "source": [
    "# The mean and median are similar enough that neither is particularly better than the other for describing this dataset. The mode isn't helpful at all.\n",
    "# Standard deviation is the best value to describe the variance of this set: standard error is irrelevant since the entire population is accounted for, and the variance is too large relative to the mean."
   ]
  },
  {
   "cell_type": "code",
   "execution_count": 4,
   "metadata": {},
   "outputs": [
    {
     "name": "stdout",
     "output_type": "stream",
     "text": [
      "mean: 10.0\n",
      "median: 10.0\n",
      "mode: 8\n",
      "variance: 6.333333333333333\n",
      "standard deviation: 2.516611478423583\n",
      "standard error: 0.9511897312113418\n"
     ]
    }
   ],
   "source": [
    "brady.loc['Cindy', 'age'] += 1\n",
    "print (\"mean: {}\".format(np.mean(brady['age'])))\n",
    "print (\"median: {}\".format(np.median(brady['age'])))\n",
    "print (\"mode: {}\".format(statistics.mode(brady['age'])))\n",
    "print (\"variance: {}\".format(brady['age'].var()))\n",
    "print (\"standard deviation: {}\".format(np.std(brady['age'], ddof=1)))\n",
    "print (\"standard error: {}\".format(np.std(brady['age'] ,ddof=1) / np.sqrt(len(brady['age']))))"
   ]
  },
  {
   "cell_type": "code",
   "execution_count": 5,
   "metadata": {},
   "outputs": [],
   "source": [
    "# Responses above haven't changed for the same reasons outlined previously."
   ]
  },
  {
   "cell_type": "code",
   "execution_count": 6,
   "metadata": {},
   "outputs": [
    {
     "name": "stdout",
     "output_type": "stream",
     "text": [
      "mean: 9.0\n",
      "median: 10.0\n",
      "no mode, all values appear equally\n",
      "variance: 18.0\n",
      "standard deviation: 4.242640687119285\n",
      "standard error: 1.6035674514745462\n"
     ]
    }
   ],
   "source": [
    "# brady = brady.drop(['Oliver'])\n",
    "brady = brady.rename(index = {\"Oliver\": \"Jessica\"})\n",
    "brady.loc['Jessica', 'age'] = 1\n",
    "print (\"mean: {}\".format(np.mean(brady['age'])))\n",
    "print (\"median: {}\".format(np.median(brady['age'])))\n",
    "# print (\"mode: {}\".format(statistics.mode(brady['age'])))\n",
    "print (\"no mode, all values appear equally\")\n",
    "print (\"variance: {}\".format(brady['age'].var()))\n",
    "print (\"standard deviation: {}\".format(np.std(brady['age'], ddof=1)))\n",
    "print (\"standard error: {}\".format(np.std(brady['age'] ,ddof=1) / np.sqrt(len(brady['age']))))"
   ]
  },
  {
   "cell_type": "code",
   "execution_count": null,
   "metadata": {},
   "outputs": [],
   "source": [
    "# Because an outlier has been introduced, the median is a better measure of central tendency.\n",
    "# Standard deviation is still the best measure of variance."
   ]
  },
  {
   "cell_type": "code",
   "execution_count": 9,
   "metadata": {},
   "outputs": [
    {
     "name": "stdout",
     "output_type": "stream",
     "text": [
      "16.25\n",
      "18.5\n",
      "7.88986691902975\n"
     ]
    }
   ],
   "source": [
    "ratings = [20, 23, 17, 5]\n",
    "print(np.mean(ratings))\n",
    "print(np.median(ratings))\n",
    "print(np.std(ratings, ddof=1))"
   ]
  },
  {
   "cell_type": "code",
   "execution_count": null,
   "metadata": {},
   "outputs": [],
   "source": [
    "# There is clearly an outlier here, so the median is more useful than the mean for this dataset.\n",
    "# Based on the median, ~18.5% of the respondents are fans of the show.\n",
    "# However, since the respondents are taken from a biased sample (those who read TV-related magazines are more likely to be fans of any given show), there's no way to know what percentage of Americans in general are Brady Bunch fans."
   ]
  }
 ],
 "metadata": {
  "kernelspec": {
   "display_name": "Python 3",
   "language": "python",
   "name": "python3"
  },
  "language_info": {
   "codemirror_mode": {
    "name": "ipython",
    "version": 3
   },
   "file_extension": ".py",
   "mimetype": "text/x-python",
   "name": "python",
   "nbconvert_exporter": "python",
   "pygments_lexer": "ipython3",
   "version": "3.7.2"
  }
 },
 "nbformat": 4,
 "nbformat_minor": 2
}
